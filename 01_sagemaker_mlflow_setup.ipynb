{
 "cells": [
  {
   "cell_type": "markdown",
   "id": "02127090-ee33-4005-b5af-5f4e386ed1a6",
   "metadata": {},
   "source": [
    "# How to Setup Amazon SageMaker with MLflow"
   ]
  },
  {
   "cell_type": "markdown",
   "id": "557f10ee-714a-4378-9493-abe2cd010754",
   "metadata": {},
   "source": [
    "This notebook's CI test result for us-west-2 is as follows. CI test results in other regions can be found at the end of the notebook.\n",
    "\n",
    "![This us-west-2 badge failed to load. Check your device's internet connectivity, otherwise the service is currently unavailable](https://prod.us-west-2.tcx-beacon.docs.aws.dev/sagemaker-nb/us-west-2/sagemaker-mlflow|sagemaker_mlflow_setup.ipynb)"
   ]
  },
  {
   "cell_type": "markdown",
   "id": "9f09f362-71a7-409c-a4c7-0ee5e59c1581",
   "metadata": {},
   "source": [
    "## Updates and Imports"
   ]
  },
  {
   "cell_type": "code",
   "execution_count": 1,
   "id": "cd83cc42-fc1e-49cd-88e3-7a685add2404",
   "metadata": {},
   "outputs": [],
   "source": [
    "#!pip install -U --quiet boto3"
   ]
  },
  {
   "cell_type": "markdown",
   "id": "f932a722-a2cd-4aca-bdc0-d00553439966",
   "metadata": {},
   "source": [
    "Imports"
   ]
  },
  {
   "cell_type": "code",
   "execution_count": 2,
   "id": "329cf85a-352c-4f55-8e2a-4771a26fbe70",
   "metadata": {},
   "outputs": [
    {
     "name": "stdout",
     "output_type": "stream",
     "text": [
      "sagemaker.config INFO - Not applying SDK defaults from location: /etc/xdg/sagemaker/config.yaml\n",
      "sagemaker.config INFO - Not applying SDK defaults from location: /home/sagemaker-user/.config/sagemaker/config.yaml\n",
      "2.0.9\n",
      "2.227.0\n",
      "1.34.162\n"
     ]
    }
   ],
   "source": [
    "import json\n",
    "import sagemaker\n",
    "import boto3\n",
    "\n",
    "print(json.__version__)\n",
    "print(sagemaker.__version__)\n",
    "print(boto3.__version__)"
   ]
  },
  {
   "cell_type": "markdown",
   "id": "95c2869e-1845-4534-bf97-d530b5c27c48",
   "metadata": {},
   "source": [
    "Session variables"
   ]
  },
  {
   "cell_type": "code",
   "execution_count": 3,
   "id": "ece22344-f747-4fb2-9051-3640dd95dd6b",
   "metadata": {},
   "outputs": [],
   "source": [
    "sess = sagemaker.Session()\n",
    "bucket_name = sess.default_bucket()\n",
    "role = sagemaker.get_execution_role()\n",
    "region = sess.boto_region_name\n",
    "\n",
    "iam_client = boto3.client(\"iam\")\n",
    "sts_client = boto3.client(\"sts\")\n",
    "sm_client = boto3.client(\"sagemaker\")\n",
    "account_id = sts_client.get_caller_identity()[\"Account\"]\n",
    "tracking_server_name = \"my-tracking-server-No1\"\n",
    "mlflow_role_name = \"my-mlflow-role-No1\"\n",
    "mlflow_policy_name = \"mlflow-s3-sm-model-registry\""
   ]
  },
  {
   "cell_type": "markdown",
   "id": "6c292837-353c-4c3c-91b9-3088e8d5a02b",
   "metadata": {},
   "source": [
    "## MLflow Permissions"
   ]
  },
  {
   "cell_type": "markdown",
   "id": "e6bae350-030f-4ecf-8380-5b11b73b5806",
   "metadata": {},
   "source": [
    "### IAM Role for the MLflow Tracking Server\n",
    "\n",
    "To run the next cell, make sure the IAM role used while running this notebook has permission to create an IAM Role. \n",
    "The `iam:CreateRole`, `iam:CreatePolicy`, `iam:ListPolicies`, and `iam:AttachRolePolicy` action must be allowed by the notebook execution role's policy.\n",
    "\n",
    "If you are running this notebook from SageMaker Studio, you can update your notebook execution role through the following steps: \n",
    "\n",
    "1. Navigate to the AWS Console and select the Domain you are using\n",
    "2. Under the Domain, select the User Profile you are using. You will see the Execution Role listed there.\n",
    "3. Navigate to the IAM Console, search for the Execution Role under \"Roles\", and update your role with a policy that allows the `iam:CreateRole`, `iam:CreatePolicy`, `iam:ListPolicies`, and `iam:AttachRolePolicy` actions. \n",
    "\n",
    "If you are not using a SageMaker Studio Notebook, confirm that the role you have used to configure your AWS CLI has appropriate permissions to create an IAM role and attach a policy to it. \n",
    "\n",
    "Here is an example of an inline policy you can add to your role - \n",
    "\n",
    "```json\n",
    "{\n",
    "    \"Version\": \"2012-10-17\",\n",
    "    \"Statement\": [\n",
    "        {\n",
    "            \"Sid\": \"Statement1\",\n",
    "            \"Effect\": \"Allow\",\n",
    "            \"Action\": [\n",
    "                \"iam:ListPolicies\",\n",
    "                \"iam:CreatePolicy\",\n",
    "                \"iam:CreateRole\",\n",
    "                \"iam:AttachRolePolicy\"\n",
    "            ],\n",
    "            \"Resource\": [\n",
    "                \"*\"\n",
    "            ]\n",
    "        }\n",
    "    ]\n",
    "}\n",
    "```"
   ]
  },
  {
   "cell_type": "code",
   "execution_count": 4,
   "id": "612a9b31-3864-4803-b910-55d78761285a",
   "metadata": {},
   "outputs": [
    {
     "name": "stdout",
     "output_type": "stream",
     "text": [
      "Role my-mlflow-role-No1 already exists\n"
     ]
    }
   ],
   "source": [
    "mlflow_trust_policy = {\n",
    "    \"Version\": \"2012-10-17\",\n",
    "    \"Statement\": [\n",
    "        {\n",
    "            \"Effect\": \"Allow\",\n",
    "            \"Principal\": {\"Service\": [\"sagemaker.amazonaws.com\"]},\n",
    "            \"Action\": \"sts:AssumeRole\",\n",
    "        }\n",
    "    ],\n",
    "}\n",
    "\n",
    "# Create role for MLflow\n",
    "try:\n",
    "    # 기존 역할이 있는지 확인\n",
    "    existing_role = iam_client.get_role(\n",
    "    RoleName=mlflow_role_name)\n",
    "    print(f\"Role {mlflow_role_name} already exists\")\n",
    "    mlflow_role = existing_role[\"Role\"]\n",
    "except iam_client.exceptions.NoSuchEntityException:\n",
    "    # 역할이 없는 경우에만 새로 생성\n",
    "    mlflow_role = iam_client.create_role(\n",
    "        RoleName=mlflow_role_name,\n",
    "        AssumeRolePolicyDocument=json.dumps(mlflow_trust_policy)\n",
    "    )\n",
    "    print(f\"Created new role: {mlflow_role_name}\")\n",
    "\n",
    "mlflow_role_arn = mlflow_role[\"Arn\"]"
   ]
  },
  {
   "cell_type": "code",
   "execution_count": 5,
   "id": "95324048-6ff5-4051-b345-0fc86e7809b7",
   "metadata": {},
   "outputs": [
    {
     "name": "stdout",
     "output_type": "stream",
     "text": [
      "Policy mlflow-s3-sm-model-registry already exists\n"
     ]
    }
   ],
   "source": [
    "# Create policy for S3 and SageMaker Model Registry\n",
    "sm_s3_model_registry_policy = {\n",
    "    \"Version\": \"2012-10-17\",\n",
    "    \"Statement\": [\n",
    "        {\n",
    "            \"Effect\": \"Allow\",\n",
    "            \"Action\": [\n",
    "                \"s3:Get*\",\n",
    "                \"s3:Put*\",\n",
    "                \"s3:List*\",\n",
    "                \"sagemaker:AddTags\",\n",
    "                \"sagemaker:CreateModelPackageGroup\",\n",
    "                \"sagemaker:CreateModelPackage\",\n",
    "                \"sagemaker:UpdateModelPackage\",\n",
    "                \"sagemaker:DescribeModelPackageGroup\",\n",
    "            ],\n",
    "            \"Resource\": \"*\",\n",
    "        }\n",
    "    ],\n",
    "}\n",
    "\n",
    "try:\n",
    "    # 기존 정책이 있는지 확인\n",
    "    existing_policy = iam_client.get_policy(\n",
    "        PolicyArn=f\"arn:aws:iam::{account_id}:policy/{mlflow_policy_name}\"\n",
    "    )\n",
    "    print(f\"Policy {mlflow_policy_name} already exists\")\n",
    "    mlflow_s3_sm_model_registry_iam_policy = existing_policy[\"Policy\"]\n",
    "except iam_client.exceptions.NoSuchEntityException:\n",
    "    # 정책이 없는 경우에만 새로 생성\n",
    "    mlflow_s3_sm_model_registry_iam_policy = iam_client.create_policy(\n",
    "        PolicyName=mlflow_policy_name,\n",
    "        PolicyDocument=json.dumps(sm_s3_model_registry_policy)\n",
    "    )\n",
    "    print(f\"Created new policy: {mlflow_policy_name}\")\n",
    "\n",
    "#mlflow_s3_sm_model_registry_iam_policy = iam_client.create_policy(\n",
    "#    PolicyName={mlflow_policy_name}, PolicyDocument=json.dumps(sm_s3_model_registry_policy)\n",
    "#)\n",
    "\n",
    "mlflow_s3_sm_model_registry_iam_policy_arn = mlflow_s3_sm_model_registry_iam_policy[\"Arn\"]"
   ]
  },
  {
   "cell_type": "code",
   "execution_count": 6,
   "id": "932eeccc-fe9e-4551-b8c5-288bae29185c",
   "metadata": {},
   "outputs": [
    {
     "data": {
      "text/plain": [
       "{'ResponseMetadata': {'RequestId': '5a6348a1-0867-4862-be7e-8c009d5215d1',\n",
       "  'HTTPStatusCode': 200,\n",
       "  'HTTPHeaders': {'date': 'Sun, 05 Jan 2025 00:40:38 GMT',\n",
       "   'x-amzn-requestid': '5a6348a1-0867-4862-be7e-8c009d5215d1',\n",
       "   'content-type': 'text/xml',\n",
       "   'content-length': '212'},\n",
       "  'RetryAttempts': 0}}"
      ]
     },
     "execution_count": 6,
     "metadata": {},
     "output_type": "execute_result"
    }
   ],
   "source": [
    "# Attach the policy to the MLflow role\n",
    "iam_client.attach_role_policy(\n",
    "    RoleName=mlflow_role_name, PolicyArn=mlflow_s3_sm_model_registry_iam_policy_arn\n",
    ")"
   ]
  },
  {
   "cell_type": "markdown",
   "id": "65e2744c-c1b4-4444-9e8f-fbf1315a71a4",
   "metadata": {},
   "source": [
    "Note that your SageMaker execution role should have the following permissions to call Mlflow REST APIs:\n",
    "\n",
    "```json\n",
    "{\n",
    "    \"Version\": \"2012-10-17\",    \n",
    "    \"Statement\": [        \n",
    "        {            \n",
    "            \"Effect\": \"Allow\",            \n",
    "            \"Action\": [\n",
    "                \"sagemaker-mlflow:*\",\n",
    "                \"sagemaker:CreateMlflowTrackingServer\",\n",
    "                \"sagemaker:UpdateMlflowTrackingServer\",\n",
    "                \"sagemaker:DeleteMlflowTrackingServer\",\n",
    "                \"sagemaker:StartMlflowTrackingServer\",\n",
    "                \"sagemaker:StopMlflowTrackingServer\",\n",
    "                \"sagemaker:CreatePresignedMlflowTrackingServerUrl\"\n",
    "            ],            \n",
    "            \"Resource\": \"*\"        \n",
    "        }        \n",
    "    ]\n",
    "}\n",
    "```"
   ]
  },
  {
   "cell_type": "markdown",
   "id": "ade88b9a-961a-4ced-9320-e56d7e9cf3eb",
   "metadata": {},
   "source": [
    "## Create MLflow Tracking Server"
   ]
  },
  {
   "cell_type": "code",
   "execution_count": 7,
   "id": "8d496f9b-4493-4ab2-9d35-8d4ec0f79620",
   "metadata": {},
   "outputs": [
    {
     "data": {
      "text/plain": [
       "{'TrackingServerArn': 'arn:aws:sagemaker:us-east-1:211125368524:mlflow-tracking-server/my-tracking-server-No1',\n",
       " 'ResponseMetadata': {'RequestId': '63ae8448-fca0-4dce-b1b0-7c01ecd9a720',\n",
       "  'HTTPStatusCode': 200,\n",
       "  'HTTPHeaders': {'x-amzn-requestid': '63ae8448-fca0-4dce-b1b0-7c01ecd9a720',\n",
       "   'content-type': 'application/x-amz-json-1.1',\n",
       "   'content-length': '110',\n",
       "   'date': 'Sun, 05 Jan 2025 00:40:39 GMT'},\n",
       "  'RetryAttempts': 0}}"
      ]
     },
     "execution_count": 7,
     "metadata": {},
     "output_type": "execute_result"
    }
   ],
   "source": [
    "sm_client.create_mlflow_tracking_server(\n",
    "    TrackingServerName=tracking_server_name,\n",
    "    ArtifactStoreUri=f\"s3://{bucket_name}/{tracking_server_name}\",\n",
    "    TrackingServerSize=\"Small\",\n",
    "    MlflowVersion=\"2.13.2\",\n",
    "    RoleArn=mlflow_role_arn,\n",
    "    AutomaticModelRegistration=False,\n",
    ")"
   ]
  },
  {
   "cell_type": "code",
   "execution_count": 8,
   "id": "20d535f6-6dd2-4c5c-99e3-8b428c052c70",
   "metadata": {},
   "outputs": [],
   "source": [
    "tracking_server_arn = (\n",
    "    f\"arn:aws:sagemaker:{region}:{account_id}:mlflow-tracking-server/{tracking_server_name}\"\n",
    ")"
   ]
  },
  {
   "cell_type": "markdown",
   "id": "e6c50a30-89e4-4ea9-8fe8-df15a2f7726e",
   "metadata": {},
   "source": [
    "Amazon SageMaker의 MLflow 트래킹 서버의 구성 및 상세 정보를 확인"
   ]
  },
  {
   "cell_type": "code",
   "execution_count": 9,
   "id": "ddff09d7-73aa-4f77-b437-1e8c05c59ea2",
   "metadata": {},
   "outputs": [
    {
     "data": {
      "text/plain": [
       "{'TrackingServerArn': 'arn:aws:sagemaker:us-east-1:211125368524:mlflow-tracking-server/my-tracking-server-No1',\n",
       " 'TrackingServerName': 'my-tracking-server-No1',\n",
       " 'ArtifactStoreUri': 's3://sagemaker-us-east-1-211125368524/my-tracking-server-No1',\n",
       " 'TrackingServerSize': 'Small',\n",
       " 'MlflowVersion': '2.13.2',\n",
       " 'RoleArn': 'arn:aws:iam::211125368524:role/my-mlflow-role-No1',\n",
       " 'TrackingServerStatus': 'Creating',\n",
       " 'IsActive': 'Inactive',\n",
       " 'TrackingServerUrl': 'https://t-wpgo5ybajp7h.us-east-1.experiments.sagemaker.aws',\n",
       " 'WeeklyMaintenanceWindowStart': 'Sun:20:23',\n",
       " 'AutomaticModelRegistration': False,\n",
       " 'CreationTime': datetime.datetime(2025, 1, 5, 0, 40, 39, 728000, tzinfo=tzlocal()),\n",
       " 'CreatedBy': {'UserProfileArn': 'arn:aws:sagemaker:us-east-1:211125368524:user-profile/d-zclmp6rakgrp/default-20240903T101789',\n",
       "  'UserProfileName': 'default-20240903T101789',\n",
       "  'DomainId': 'd-zclmp6rakgrp'},\n",
       " 'LastModifiedTime': datetime.datetime(2025, 1, 5, 0, 40, 39, 728000, tzinfo=tzlocal()),\n",
       " 'LastModifiedBy': {'UserProfileArn': 'arn:aws:sagemaker:us-east-1:211125368524:user-profile/d-zclmp6rakgrp/default-20240903T101789',\n",
       "  'UserProfileName': 'default-20240903T101789',\n",
       "  'DomainId': 'd-zclmp6rakgrp'},\n",
       " 'ResponseMetadata': {'RequestId': '0b1cb47c-f98c-4b89-8e90-8dc7d07f71b3',\n",
       "  'HTTPStatusCode': 200,\n",
       "  'HTTPHeaders': {'x-amzn-requestid': '0b1cb47c-f98c-4b89-8e90-8dc7d07f71b3',\n",
       "   'content-type': 'application/x-amz-json-1.1',\n",
       "   'content-length': '1038',\n",
       "   'date': 'Sun, 05 Jan 2025 00:40:39 GMT'},\n",
       "  'RetryAttempts': 0}}"
      ]
     },
     "execution_count": 9,
     "metadata": {},
     "output_type": "execute_result"
    }
   ],
   "source": [
    "sm_client.describe_mlflow_tracking_server(TrackingServerName=tracking_server_name)"
   ]
  },
  {
   "cell_type": "markdown",
   "id": "9253235c-c57b-480f-b07e-274c2ef3c901",
   "metadata": {},
   "source": [
    "Install the MLflow SDK and our MLflow AWS Plugin (SageMaker Studio Space에서는 생략 가능)"
   ]
  },
  {
   "cell_type": "code",
   "execution_count": 10,
   "id": "2232f516-f23c-4c0d-ada2-933a45fea6e9",
   "metadata": {},
   "outputs": [],
   "source": [
    "#!pip install --quiet mlflow==2.13.2 sagemaker-mlflow==0.1.0"
   ]
  },
  {
   "cell_type": "markdown",
   "id": "073d12e9-b91e-4c0c-93d1-8cae66648e49",
   "metadata": {},
   "source": [
    "## MLflow tracking test"
   ]
  },
  {
   "cell_type": "markdown",
   "id": "ad90cde7-9de2-4df7-80a5-010165edafce",
   "metadata": {},
   "source": [
    "Connect to tracking server"
   ]
  },
  {
   "cell_type": "code",
   "execution_count": 11,
   "id": "a7a43ce7-3e9a-4b47-b051-9f59522ee43f",
   "metadata": {},
   "outputs": [],
   "source": [
    "import mlflow\n",
    "\n",
    "mlflow.set_tracking_uri(tracking_server_arn)"
   ]
  },
  {
   "cell_type": "markdown",
   "id": "c9197fca-6370-4f91-a52f-440ef5b22484",
   "metadata": {},
   "source": [
    "Log a metric (mlflow tracking server 생성 완료 후 실행)"
   ]
  },
  {
   "cell_type": "code",
   "execution_count": 13,
   "id": "bab5d5df-c1a8-4a2b-89e1-52d36d630f3d",
   "metadata": {},
   "outputs": [
    {
     "name": "stderr",
     "output_type": "stream",
     "text": [
      "2025/01/05 01:26:15 INFO mlflow.tracking._tracking_service.client: 🏃 View run melodic-quail-776 at: https://us-east-1.experiments.sagemaker.aws/#/experiments/0/runs/e1e7f8ea4c074a839bb196338ba7c700.\n",
      "2025/01/05 01:26:15 INFO mlflow.tracking._tracking_service.client: 🧪 View experiment at: https://us-east-1.experiments.sagemaker.aws/#/experiments/0.\n"
     ]
    }
   ],
   "source": [
    "with mlflow.start_run():\n",
    "    mlflow.log_metric(\"foo\", 1)"
   ]
  },
  {
   "cell_type": "markdown",
   "id": "d603ef2f-9c42-4ef2-896e-73ab1eaa6ace",
   "metadata": {},
   "source": [
    "See results in MLflow UI. You can either launch the MLflow UI from within SageMaker Studio, or generate a pre-signed URL like this:"
   ]
  },
  {
   "cell_type": "code",
   "execution_count": 14,
   "id": "0690708f-976c-472e-8e4d-281aa163e9aa",
   "metadata": {},
   "outputs": [
    {
     "data": {
      "text/plain": [
       "{'AuthorizedUrl': 'https://t-wpgo5ybajp7h.us-east-1.experiments.sagemaker.aws/auth?authToken=eyJhbGciOiJIUzI1NiJ9.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.q91Esw7oSDv-qer-69hSrZspZVnN5LGkggELWnkTNc4',\n",
       " 'ResponseMetadata': {'RequestId': 'd8501abb-afe4-44f6-9d7f-6c02816ba26d',\n",
       "  'HTTPStatusCode': 200,\n",
       "  'HTTPHeaders': {'x-amzn-requestid': 'd8501abb-afe4-44f6-9d7f-6c02816ba26d',\n",
       "   'content-type': 'application/x-amz-json-1.1',\n",
       "   'content-length': '3854',\n",
       "   'date': 'Sun, 05 Jan 2025 01:26:15 GMT'},\n",
       "  'RetryAttempts': 0}}"
      ]
     },
     "execution_count": 14,
     "metadata": {},
     "output_type": "execute_result"
    }
   ],
   "source": [
    "sm_client.create_presigned_mlflow_tracking_server_url(TrackingServerName=tracking_server_name)"
   ]
  },
  {
   "cell_type": "markdown",
   "id": "0f739f1a-2a97-4cc5-bb6b-bc59e4111d0f",
   "metadata": {},
   "source": [
    "## Notebook CI Test Results\n",
    "\n",
    "This notebook was tested in multiple regions. The test results are as follows, except for us-west-2 which is shown at the top of the notebook.\n",
    "\n",
    "\n",
    "![This us-east-1 badge failed to load. Check your device's internet connectivity, otherwise the service is currently unavailable](https://prod.us-west-2.tcx-beacon.docs.aws.dev/sagemaker-nb/us-east-1/sagemaker-mlflow|sagemaker_mlflow_setup.ipynb)\n",
    "\n",
    "![This us-east-2 badge failed to load. Check your device's internet connectivity, otherwise the service is currently unavailable](https://prod.us-west-2.tcx-beacon.docs.aws.dev/sagemaker-nb/us-east-2/sagemaker-mlflow|sagemaker_mlflow_setup.ipynb)\n",
    "\n",
    "![This us-west-1 badge failed to load. Check your device's internet connectivity, otherwise the service is currently unavailable](https://prod.us-west-2.tcx-beacon.docs.aws.dev/sagemaker-nb/us-west-1/sagemaker-mlflow|sagemaker_mlflow_setup.ipynb)\n",
    "\n",
    "![This ca-central-1 badge failed to load. Check your device's internet connectivity, otherwise the service is currently unavailable](https://prod.us-west-2.tcx-beacon.docs.aws.dev/sagemaker-nb/ca-central-1/sagemaker-mlflow|sagemaker_mlflow_setup.ipynb)\n",
    "\n",
    "![This sa-east-1 badge failed to load. Check your device's internet connectivity, otherwise the service is currently unavailable](https://prod.us-west-2.tcx-beacon.docs.aws.dev/sagemaker-nb/sa-east-1/sagemaker-mlflow|sagemaker_mlflow_setup.ipynb)\n",
    "\n",
    "![This eu-west-1 badge failed to load. Check your device's internet connectivity, otherwise the service is currently unavailable](https://prod.us-west-2.tcx-beacon.docs.aws.dev/sagemaker-nb/eu-west-1/sagemaker-mlflow|sagemaker_mlflow_setup.ipynb)\n",
    "\n",
    "![This eu-west-2 badge failed to load. Check your device's internet connectivity, otherwise the service is currently unavailable](https://prod.us-west-2.tcx-beacon.docs.aws.dev/sagemaker-nb/eu-west-2/sagemaker-mlflow|sagemaker_mlflow_setup.ipynb)\n",
    "\n",
    "![This eu-west-3 badge failed to load. Check your device's internet connectivity, otherwise the service is currently unavailable](https://prod.us-west-2.tcx-beacon.docs.aws.dev/sagemaker-nb/eu-west-3/sagemaker-mlflow|sagemaker_mlflow_setup.ipynb)\n",
    "\n",
    "![This eu-central-1 badge failed to load. Check your device's internet connectivity, otherwise the service is currently unavailable](https://prod.us-west-2.tcx-beacon.docs.aws.dev/sagemaker-nb/eu-central-1/sagemaker-mlflow|sagemaker_mlflow_setup.ipynb)\n",
    "\n",
    "![This eu-north-1 badge failed to load. Check your device's internet connectivity, otherwise the service is currently unavailable](https://prod.us-west-2.tcx-beacon.docs.aws.dev/sagemaker-nb/eu-north-1/sagemaker-mlflow|sagemaker_mlflow_setup.ipynb)\n",
    "\n",
    "![This ap-southeast-1 badge failed to load. Check your device's internet connectivity, otherwise the service is currently unavailable](https://prod.us-west-2.tcx-beacon.docs.aws.dev/sagemaker-nb/ap-southeast-1/sagemaker-mlflow|sagemaker_mlflow_setup.ipynb)\n",
    "\n",
    "![This ap-southeast-2 badge failed to load. Check your device's internet connectivity, otherwise the service is currently unavailable](https://prod.us-west-2.tcx-beacon.docs.aws.dev/sagemaker-nb/ap-southeast-2/sagemaker-mlflow|sagemaker_mlflow_setup.ipynb)\n",
    "\n",
    "![This ap-northeast-1 badge failed to load. Check your device's internet connectivity, otherwise the service is currently unavailable](https://prod.us-west-2.tcx-beacon.docs.aws.dev/sagemaker-nb/ap-northeast-1/sagemaker-mlflow|sagemaker_mlflow_setup.ipynb)\n",
    "\n",
    "![This ap-northeast-2 badge failed to load. Check your device's internet connectivity, otherwise the service is currently unavailable](https://prod.us-west-2.tcx-beacon.docs.aws.dev/sagemaker-nb/ap-northeast-2/sagemaker-mlflow|sagemaker_mlflow_setup.ipynb)\n",
    "\n",
    "![This ap-south-1 badge failed to load. Check your device's internet connectivity, otherwise the service is currently unavailable](https://prod.us-west-2.tcx-beacon.docs.aws.dev/sagemaker-nb/ap-south-1/sagemaker-mlflow|sagemaker_mlflow_setup.ipynb)"
   ]
  }
 ],
 "metadata": {
  "kernelspec": {
   "display_name": "Python 3 (ipykernel)",
   "language": "python",
   "name": "python3"
  },
  "language_info": {
   "codemirror_mode": {
    "name": "ipython",
    "version": 3
   },
   "file_extension": ".py",
   "mimetype": "text/x-python",
   "name": "python",
   "nbconvert_exporter": "python",
   "pygments_lexer": "ipython3",
   "version": "3.11.11"
  }
 },
 "nbformat": 4,
 "nbformat_minor": 5
}
